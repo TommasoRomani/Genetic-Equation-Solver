{
 "cells": [
  {
   "cell_type": "markdown",
   "metadata": {},
   "source": [
    "# Dataset Generation"
   ]
  },
  {
   "cell_type": "markdown",
   "metadata": {},
   "source": [
    "$\\frac{\\sqrt{9sigmoid(x)}+(yx)}{4} \\cdot \\frac{6x+4y}{5x+\\sqrt{5xsigmoid(y)}}$"
   ]
  },
  {
   "cell_type": "markdown",
   "metadata": {},
   "source": [
    "$f(x, y) = \\left( \\left( y + \\sqrt{y - \\frac{x}{3}} \\right) + \\sqrt{y - \\left( y - 5 \\right)} \\right) + \\left( \\left( y - 5 \\right) \\cdot \\frac{\\left( \\text{sigmoid}(x) + x \\right)}{3} \\right)\n",
    "$"
   ]
  },
  {
   "cell_type": "code",
   "execution_count": 1,
   "metadata": {},
   "outputs": [],
   "source": [
    "# depth = 4\n",
    "\n",
    "from operation import *\n",
    "#defines equation 1\n",
    "def equation1(x,y):\n",
    "    return (mul(div(sum(sqrt(sigmoid(x)),mul(x, y)),4),div(sum(mul(6,x),mul(4,y)),sum(mul(5,x),sqrt(mul(x,sigmoid(y)))))))\n",
    "'''\n",
    "+(*(+(y,sqrt(-(y,/(x,3)))),sqrt(+(y,-(y,5)))),*(-(y,5),/(+(sigmoid(x),x),3)))\n",
    "Final equation found = +(*(+(y,sqrt(-(y,/(x,3)))),sqrt(+(y,-(y,5)))),*(-(y,5),/(+(sigmoid(x),x),3)))\n",
    "9374.360828236591'''"
   ]
  },
  {
   "cell_type": "markdown",
   "metadata": {},
   "source": [
    "$6x + \\frac{\\sqrt{x}}{4}+\\frac{9 sigmoid(y)}{2}-\\frac{4x-7}{y}$"
   ]
  },
  {
   "cell_type": "markdown",
   "metadata": {},
   "source": [
    "$-\\left( \\left( \\text{sigmoid}\\left( \\text{sigmoid}(9) + x \\right) + x \\right) \\cdot 6 \\right) - \\frac{\\frac{\\left( \\text{sigmoid}(x) + x \\right) \\cdot 6}{y}}{\\sqrt{\\sqrt{6}}}$"
   ]
  },
  {
   "cell_type": "code",
   "execution_count": 2,
   "metadata": {},
   "outputs": [
    {
     "data": {
      "text/plain": [
       "\"\\nBest value = 0.8176647671250886 found until now, whit depth 5\\nFinal equation found = -(+(*(5,x),-(x,-(/(x,y),+(1,5)))),+(/(-(+(x,x),+(2,9)),y),/(x,y))) \\n in 31 generations with vvalue 0.8176647671250886\\n\\n problem = Problem(200, 500, 'equation1')\\n    problem.evolve(0.05, 50, 5, 'sus')\\n\""
      ]
     },
     "execution_count": 2,
     "metadata": {},
     "output_type": "execute_result"
    }
   ],
   "source": [
    "#defines equatio 2\n",
    "def equation2(x,y):\n",
    "    return (sub(sum(sum(mul(6,x),div(sqrt(x),4)),div(mul(9,sigmoid(y)),2)),div(sub(mul(4,x),7),y)))\n",
    "\n",
    "'''\n",
    "Best value 0.30950695200162603 found until now\n",
    "-(*(+(sigmoid(+(sigmoid(9),x)),x),6),/(/(*(+(sigmoid(x),x),6),y),sqrt(sqrt(6))))\n",
    "Generation: 56\n",
    "'''"
   ]
  },
  {
   "cell_type": "markdown",
   "metadata": {},
   "source": [
    "$8sigmoid(x \\cdot y)-\\sqrt{\\frac{7x}{2}}y + 6\\frac{x}{y-3}$"
   ]
  },
  {
   "cell_type": "markdown",
   "metadata": {},
   "source": [
    "$-\\left( \\left( \\frac{x + 6}{6} \\right) - \\left( \\frac{9 \\cdot \\frac{x}{y}}{y} \\cdot 9 \\right) \\right) - \\left( \\sqrt{-\\left( -\\left( x \\cdot y - \\left( x - 4 \\right) \\right) - y \\right)} + \\sqrt{-\\left( -\\left( x \\cdot y - \\left( x - 4 \\right) \\right) - \\frac{9}{\\frac{x}{y}} \\right)} \\right)$"
   ]
  },
  {
   "cell_type": "code",
   "execution_count": 3,
   "metadata": {},
   "outputs": [],
   "source": [
    "# defines equation 3\n",
    "def equation3(x,y):\n",
    "    return (sum(sub(sigmoid(mul(x,y)),sqrt(mul(div(mul(7,x),2),y))),mul(6,div(x,sub(y,3)))))\\\n",
    "    \n",
    "'''Final equation found = -(+(/(+(x,6),6),*(/(*(9,/(x,y)),y),9)),+(sqrt(-(-(*(x,y),-(x,4)),y)),sqrt(-(-(*(x,y),-(x,4)),*(9,/(x,y))))))\n",
    "10.69780976462901'''"
   ]
  },
  {
   "cell_type": "markdown",
   "metadata": {},
   "source": [
    "$9x+\\frac{x}{6y}-\\sqrt{xy}+sigmoid(y)$"
   ]
  },
  {
   "cell_type": "markdown",
   "metadata": {},
   "source": [
    "$-(+(-(sqrt(x),+(sqrt(*(y,x)),sqrt(*(y,x)))),/(-(y,*(6,*(4,2))),*(6,6))),*(+(+(sigmoid(x),sigmoid(4)),*(/(x,x),*(/(x,x),/(7,6)))),/(+(x,x),-(2,y))))\n",
    "$"
   ]
  },
  {
   "cell_type": "code",
   "execution_count": 4,
   "metadata": {},
   "outputs": [
    {
     "data": {
      "text/plain": [
       "\"\\nFinal equation found = -(-(*(+(/(-(x,5),5),+(y,/(x,6))),/(2,x)),/(-(-(x,5),5),4)),+(/(x,/(-(6,+(3,y)),-(-(8,1),1))),+(/(-(-(x,5),5),5),+(/(-(x,5),5),+(y,/(x,6))))))\\nimport cProfile\\nfrom problem import Problem\\n\\ndef run_problem():\\n    problem = Problem(100, 200, 'equation4')\\n    problem.evolve(0.1, 100, 5, 'sus')\\n\\nsolution = run_problem()\\n\\n\""
      ]
     },
     "execution_count": 4,
     "metadata": {},
     "output_type": "execute_result"
    }
   ],
   "source": [
    "def equation4(x,y):\n",
    "    return (sub(sum(mul(9,x),div(x,mul(6,y))),sum(sqrt(mul(x,y)),sigmoid(y))))\n",
    "'''\n",
    "Best value 2.0685892730290947 found until now\n",
    "-(+(-(sqrt(x),+(sqrt(*(y,x)),sqrt(*(y,x)))),/(-(y,*(6,*(4,2))),*(6,6))),*(+(+(sigmoid(x),sigmoid(4)),*(/(x,x),*(/(x,x),/(7,6)))),/(+(x,x),-(2,y))))\n",
    "Generation: 73\n",
    "'''"
   ]
  },
  {
   "cell_type": "code",
   "execution_count": 5,
   "metadata": {},
   "outputs": [],
   "source": [
    "import pandas as pd\n",
    "import random\n",
    "\n",
    "#generates data for the equations sampling a random number between 1 and 100 without repetition\n",
    "def generate_data(name:str, n:int):\n",
    "    df = pd.DataFrame(columns=['x', 'y', 'result'])\n",
    "    x = random.sample(range(1, 100), n)\n",
    "    y = random.sample(range(1, 100), n)\n",
    "    if name == 'equation1':\n",
    "        for i in range(n):\n",
    "            #x = random.randint(1, 100)\n",
    "            #y = random.randint(1, 100)\n",
    "            df.loc[len(df.index)] = [x[i], y[i], equation1(x[i], y[i])]\n",
    "    elif name == 'equation2':\n",
    "        for i in range(n):\n",
    "            x = random.randint(1, 100)\n",
    "            y = random.randint(1, 100)\n",
    "            df.loc[len(df.index)] = [x, y, equation2(x, y)]\n",
    "    elif name == 'equation3':\n",
    "        for i in range(n):\n",
    "            x = random.randint(1, 100)\n",
    "            y = random.randint(1, 100)\n",
    "            df.loc[len(df.index)] = [x, y, equation3(x, y)]\n",
    "    elif name == 'equation4':\n",
    "        for i in range(n):\n",
    "            x = random.randint(1, 100)\n",
    "            y = random.randint(1, 100)\n",
    "            df.loc[len(df.index)] = [x, y, equation3(x, y)]\n",
    "    df.to_csv(f'{name}.csv',sep = ';', index=False)"
   ]
  },
  {
   "cell_type": "code",
   "execution_count": 14,
   "metadata": {},
   "outputs": [],
   "source": [
    "generate_data('equation1', 80)\n",
    "generate_data('equation2', 80)\n",
    "generate_data('equation3', 80)\n",
    "generate_data('equation4', 80)"
   ]
  },
  {
   "cell_type": "markdown",
   "metadata": {},
   "source": [
    "# Run"
   ]
  },
  {
   "cell_type": "code",
   "execution_count": 1,
   "metadata": {},
   "outputs": [
    {
     "name": "stdout",
     "output_type": "stream",
     "text": [
      "Generation: 0\n",
      "Best value 4334.263064704522 found until now\n",
      "*(x,5)\n",
      "Generation: 1\n",
      "Best value 946.9404011432674 found until now\n",
      "*(/(x,2),*(2,6))\n",
      "Generation: 2\n",
      "Best value 909.2064136597752 found until now\n",
      "-(*(4,x),-(-(6,x),x))\n",
      "Generation: 3\n",
      "Best value 902.637964972414 found until now\n",
      "-(*(x,6),sqrt(x))\n",
      "Generation: 4\n",
      "Best value 870.4666282458487 found until now\n",
      "-(*(x,6),sqrt(/(x,y)))\n",
      "Generation: 5\n",
      "Best value 901.9918534963178 found until now\n",
      "-(*(x,6),sqrt(-(x,2)))\n",
      "Generation: 6\n",
      "Best value 902.637964972414 found until now\n",
      "-(*(x,6),sqrt(x))\n",
      "Generation: 7\n",
      "Best value 902.637964972414 found until now\n",
      "-(*(x,6),sqrt(x))\n",
      "Generation: 8\n",
      "Best value 902.637964972414 found until now\n",
      "-(*(x,6),sqrt(x))\n",
      "Generation: 9\n",
      "Best value 889.7110229427465 found until now\n",
      "-(*(x,6),/(7,y))\n",
      "Generation: 10\n",
      "Best value 852.179359887214 found until now\n",
      "-(*(x,6),sqrt(-(x,y)))\n",
      "Generation: 11\n",
      "Best value 881.6915262002667 found until now\n",
      "-(*(x,6),/(8,y))\n",
      "Generation: 12\n",
      "Best value 887.7413560109793 found until now\n",
      "-(*(x,6),+(sqrt(x),/(2,y)))\n",
      "Generation: 13\n",
      "Best value 708.8599700037801 found until now\n",
      "-(*(x,6),*(/(4,y),+(7,y)))\n",
      "Generation: 14\n",
      "Best value 518.1795771355291 found until now\n",
      "-(*(x,6),+(sqrt(x),/(x,y)))\n",
      "Generation: 15\n",
      "Best value 46.01224513816331 found until now\n",
      "-(*(x,6),*(/(4,y),x))\n",
      "Generation: 16\n",
      "Best value 46.01224513816331 found until now\n",
      "-(*(x,6),*(/(4,y),x))\n",
      "Generation: 17\n",
      "Best value 46.01224513816331 found until now\n",
      "-(*(x,6),*(/(4,y),x))\n",
      "Generation: 18\n",
      "Best value 46.01224513816331 found until now\n",
      "-(*(x,6),*(/(4,y),x))\n",
      "Generation: 19\n",
      "Best value 46.01224513816331 found until now\n",
      "-(*(x,6),*(/(4,y),x))\n",
      "Generation: 20\n",
      "Best value 46.01224513816331 found until now\n",
      "-(*(x,6),*(/(4,y),x))\n",
      "Generation: 21\n",
      "Best value 46.01224513816331 found until now\n",
      "-(*(x,6),*(/(4,y),x))\n",
      "Generation: 22\n",
      "Best value 46.01224513816331 found until now\n",
      "-(*(x,6),*(/(4,y),x))\n",
      "Generation: 23\n",
      "Best value 46.01224513816331 found until now\n",
      "-(*(x,6),*(/(4,y),x))\n",
      "Generation: 24\n",
      "Best value 46.01224513816331 found until now\n",
      "-(*(x,6),*(/(4,y),x))\n",
      "Generation: 25\n",
      "Best value 46.01224513816331 found until now\n",
      "-(*(x,6),*(/(4,y),x))\n",
      "Generation: 26\n",
      "Best value 37.50543599839729 found until now\n",
      "-(*(x,6),*(/(4,y),-(x,3)))\n",
      "Generation: 27\n",
      "Best value 46.01224513816331 found until now\n",
      "-(*(x,6),*(/(4,y),x))\n",
      "Generation: 28\n",
      "Best value 46.01224513816331 found until now\n",
      "-(*(x,6),*(/(4,y),x))\n",
      "Generation: 29\n",
      "Best value 46.01224513816331 found until now\n",
      "-(*(x,6),*(/(4,y),x))\n",
      "Generation: 30\n",
      "Best value 46.01224513816331 found until now\n",
      "-(*(x,6),*(/(4,y),x))\n",
      "Generation: 31\n",
      "Best value 1.3511170777851418 found until now\n",
      "-(*(+(x,1),6),*(/(4,y),x))\n",
      "Generation: 32\n",
      "Best value 1.3511170777851418 found until now\n",
      "-(*(+(x,1),6),*(/(4,y),x))\n",
      "Generation: 33\n",
      "Best value 1.3511170777851418 found until now\n",
      "-(*(+(x,1),6),*(/(4,y),x))\n",
      "Generation: 34\n",
      "Best value 1.3511170777851418 found until now\n",
      "-(*(+(x,1),6),*(/(4,y),x))\n",
      "Generation: 35\n",
      "Best value 1.3511170777851418 found until now\n",
      "-(*(+(x,1),6),*(/(4,y),x))\n",
      "Generation: 36\n",
      "Best value 1.3511170777851418 found until now\n",
      "-(*(+(x,1),6),*(/(4,y),x))\n",
      "Generation: 37\n",
      "Best value 1.3511170777851418 found until now\n",
      "-(*(+(x,1),6),*(/(4,y),x))\n",
      "Generation: 38\n",
      "Best value 0.5733442514192564 found until now\n",
      "-(*(+(x,1),6),*(/(4,y),-(+(3,x),4)))\n",
      "Final equation found = -(*(+(x,1),6),*(/(4,y),-(+(3,x),4))) \n",
      " in 38 generations with vvalue 0.5733442514192564\n"
     ]
    }
   ],
   "source": [
    "import cProfile\n",
    "from problem import Problem\n",
    "\n",
    "def run_problem():\n",
    "    problem = Problem(150, 200, 'equation2')\n",
    "    problem.evolve(0.1, 200, 6, 'sus')\n",
    "\n",
    "solution = run_problem()\n"
   ]
  },
  {
   "cell_type": "code",
   "execution_count": null,
   "metadata": {},
   "outputs": [],
   "source": []
  },
  {
   "cell_type": "code",
   "execution_count": null,
   "metadata": {},
   "outputs": [],
   "source": []
  }
 ],
 "metadata": {
  "kernelspec": {
   "display_name": "comp_intelligence",
   "language": "python",
   "name": "python3"
  },
  "language_info": {
   "codemirror_mode": {
    "name": "ipython",
    "version": 3
   },
   "file_extension": ".py",
   "mimetype": "text/x-python",
   "name": "python",
   "nbconvert_exporter": "python",
   "pygments_lexer": "ipython3",
   "version": "3.12.0"
  }
 },
 "nbformat": 4,
 "nbformat_minor": 2
}
