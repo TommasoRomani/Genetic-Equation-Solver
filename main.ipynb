{
 "cells": [
  {
   "cell_type": "code",
   "execution_count": 1,
   "metadata": {},
   "outputs": [
    {
     "name": "stdout",
     "output_type": "stream",
     "text": [
      "Generation: 0\n",
      "10\n",
      "Best: 4741.371751325538\n"
     ]
    },
    {
     "name": "stderr",
     "output_type": "stream",
     "text": [
      "/home/tommaso-romani/Documents/Computational_itelligence/tree.py:73: RuntimeWarning: overflow encountered in exp\n",
      "  return 1.0 / (1.0 + np.exp(-self.left.evaluate()))\n",
      "/home/tommaso-romani/Documents/Computational_itelligence/tree.py:63: RuntimeWarning: divide by zero encountered in scalar divide\n",
      "  return self.left.evaluate() / self.right.evaluate()\n"
     ]
    },
    {
     "name": "stdout",
     "output_type": "stream",
     "text": [
      "Generation: 1\n",
      "10\n",
      "Best: 4741.371751325538\n",
      "Generation: 2\n",
      "10\n",
      "Best: 4741.371751325538\n",
      "Generation: 3\n",
      "10\n",
      "Best: 4741.371751325538\n",
      "Generation: 4\n",
      "10\n",
      "Best: 4741.371751325538\n",
      "Generation: 5\n",
      "10\n",
      "Best: 4741.371751325538\n",
      "Generation: 6\n",
      "10\n",
      "Best: 4741.371751325538\n",
      "Generation: 7\n",
      "10\n",
      "Best: 4741.371751325538\n",
      "Generation: 8\n",
      "10\n",
      "Best: 5189.050177434585\n",
      "Generation: 9\n",
      "10\n",
      "Best: 5189.050177434585\n",
      "Generation: 10\n",
      "10\n",
      "Best: 5189.050177434585\n",
      "Generation: 11\n",
      "10\n",
      "Best: 5189.050177434585\n",
      "Generation: 12\n",
      "10\n",
      "Best: 5537.824482592419\n",
      "Good Solution found in generation: 7\n",
      "Solution: *(-(96,21),sqrt(*(94,58)))\n"
     ]
    }
   ],
   "source": [
    "from problem import Problem\n",
    "\n",
    "problem = Problem(20, 1000, 5443)\n",
    "problem.evolve(0.1, 15)"
   ]
  },
  {
   "cell_type": "markdown",
   "metadata": {},
   "source": []
  },
  {
   "cell_type": "code",
   "execution_count": null,
   "metadata": {},
   "outputs": [],
   "source": []
  }
 ],
 "metadata": {
  "kernelspec": {
   "display_name": "comp_intelligence",
   "language": "python",
   "name": "python3"
  },
  "language_info": {
   "codemirror_mode": {
    "name": "ipython",
    "version": 3
   },
   "file_extension": ".py",
   "mimetype": "text/x-python",
   "name": "python",
   "nbconvert_exporter": "python",
   "pygments_lexer": "ipython3",
   "version": "3.12.0"
  }
 },
 "nbformat": 4,
 "nbformat_minor": 2
}
